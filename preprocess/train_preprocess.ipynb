{
 "metadata": {
  "language_info": {
   "codemirror_mode": {
    "name": "ipython",
    "version": 3
   },
   "file_extension": ".py",
   "mimetype": "text/x-python",
   "name": "python",
   "nbconvert_exporter": "python",
   "pygments_lexer": "ipython3",
   "version": "3.8.5-final"
  },
  "orig_nbformat": 2,
  "kernelspec": {
   "name": "python3",
   "display_name": "Python 3.8.5 64-bit ('dazuoye': conda)",
   "metadata": {
    "interpreter": {
     "hash": "13dbf51179706aab14dd40362808ed10c5c65a076cb3c26f7ac32b825aa720dc"
    }
   }
  }
 },
 "nbformat": 4,
 "nbformat_minor": 2,
 "cells": [
  {
   "cell_type": "code",
   "execution_count": 6,
   "metadata": {},
   "outputs": [],
   "source": [
    "import pandas as pd\n",
    "\n",
    "train_query = pd.read_csv('../data/train/train.query.tsv', sep='\\t', header=None)\n",
    "train_reply = pd.read_csv('../data/train/train.reply.tsv', sep='\\t', header=None)"
   ]
  },
  {
   "cell_type": "code",
   "execution_count": 7,
   "metadata": {},
   "outputs": [
    {
     "output_type": "execute_result",
     "data": {
      "text/plain": [
       "   0  1                            2  3\n",
       "0  0  0  杭州市采荷第一小学钱江苑校区，杭州市钱江新城实验学校。  1\n",
       "1  0  1                           是的  0\n",
       "2  0  2                         这是5楼  0\n",
       "3  1  0                   因为公积金贷款贷的少  0\n",
       "4  1  1                           是呢  0\n",
       "5  1  2                  这套一楼带院的，您看看  0\n",
       "6  1  3                     房本都是五年外的  0\n",
       "7  1  4                    好的??，您先看下  0\n",
       "8  2  0                   您是首套还是二套呢？  0\n",
       "9  2  1                   所有费用下来654万  1"
      ],
      "text/html": "<div>\n<style scoped>\n    .dataframe tbody tr th:only-of-type {\n        vertical-align: middle;\n    }\n\n    .dataframe tbody tr th {\n        vertical-align: top;\n    }\n\n    .dataframe thead th {\n        text-align: right;\n    }\n</style>\n<table border=\"1\" class=\"dataframe\">\n  <thead>\n    <tr style=\"text-align: right;\">\n      <th></th>\n      <th>0</th>\n      <th>1</th>\n      <th>2</th>\n      <th>3</th>\n    </tr>\n  </thead>\n  <tbody>\n    <tr>\n      <th>0</th>\n      <td>0</td>\n      <td>0</td>\n      <td>杭州市采荷第一小学钱江苑校区，杭州市钱江新城实验学校。</td>\n      <td>1</td>\n    </tr>\n    <tr>\n      <th>1</th>\n      <td>0</td>\n      <td>1</td>\n      <td>是的</td>\n      <td>0</td>\n    </tr>\n    <tr>\n      <th>2</th>\n      <td>0</td>\n      <td>2</td>\n      <td>这是5楼</td>\n      <td>0</td>\n    </tr>\n    <tr>\n      <th>3</th>\n      <td>1</td>\n      <td>0</td>\n      <td>因为公积金贷款贷的少</td>\n      <td>0</td>\n    </tr>\n    <tr>\n      <th>4</th>\n      <td>1</td>\n      <td>1</td>\n      <td>是呢</td>\n      <td>0</td>\n    </tr>\n    <tr>\n      <th>5</th>\n      <td>1</td>\n      <td>2</td>\n      <td>这套一楼带院的，您看看</td>\n      <td>0</td>\n    </tr>\n    <tr>\n      <th>6</th>\n      <td>1</td>\n      <td>3</td>\n      <td>房本都是五年外的</td>\n      <td>0</td>\n    </tr>\n    <tr>\n      <th>7</th>\n      <td>1</td>\n      <td>4</td>\n      <td>好的??，您先看下</td>\n      <td>0</td>\n    </tr>\n    <tr>\n      <th>8</th>\n      <td>2</td>\n      <td>0</td>\n      <td>您是首套还是二套呢？</td>\n      <td>0</td>\n    </tr>\n    <tr>\n      <th>9</th>\n      <td>2</td>\n      <td>1</td>\n      <td>所有费用下来654万</td>\n      <td>1</td>\n    </tr>\n  </tbody>\n</table>\n</div>"
     },
     "metadata": {},
     "execution_count": 7
    }
   ],
   "source": [
    "train_reply.head(10)"
   ]
  },
  {
   "cell_type": "code",
   "execution_count": 8,
   "metadata": {},
   "outputs": [
    {
     "output_type": "execute_result",
     "data": {
      "text/plain": [
       "   0                   1\n",
       "0  0            采荷一小是分校吧\n",
       "1  1                毛坯吗？\n",
       "2  2  你们的佣金费大约是多少和契税是多少。\n",
       "3  3             靠近川沙路嘛？\n",
       "4  4      这套房源价格还有优惠空间吗？\n",
       "5  5              这个税多少钱\n",
       "6  6      这套房源价格还有优惠空间么？\n",
       "7  7         有房子可以带我看看吗？\n",
       "8  8             光线不好，是吗\n",
       "9  9                几期的？"
      ],
      "text/html": "<div>\n<style scoped>\n    .dataframe tbody tr th:only-of-type {\n        vertical-align: middle;\n    }\n\n    .dataframe tbody tr th {\n        vertical-align: top;\n    }\n\n    .dataframe thead th {\n        text-align: right;\n    }\n</style>\n<table border=\"1\" class=\"dataframe\">\n  <thead>\n    <tr style=\"text-align: right;\">\n      <th></th>\n      <th>0</th>\n      <th>1</th>\n    </tr>\n  </thead>\n  <tbody>\n    <tr>\n      <th>0</th>\n      <td>0</td>\n      <td>采荷一小是分校吧</td>\n    </tr>\n    <tr>\n      <th>1</th>\n      <td>1</td>\n      <td>毛坯吗？</td>\n    </tr>\n    <tr>\n      <th>2</th>\n      <td>2</td>\n      <td>你们的佣金费大约是多少和契税是多少。</td>\n    </tr>\n    <tr>\n      <th>3</th>\n      <td>3</td>\n      <td>靠近川沙路嘛？</td>\n    </tr>\n    <tr>\n      <th>4</th>\n      <td>4</td>\n      <td>这套房源价格还有优惠空间吗？</td>\n    </tr>\n    <tr>\n      <th>5</th>\n      <td>5</td>\n      <td>这个税多少钱</td>\n    </tr>\n    <tr>\n      <th>6</th>\n      <td>6</td>\n      <td>这套房源价格还有优惠空间么？</td>\n    </tr>\n    <tr>\n      <th>7</th>\n      <td>7</td>\n      <td>有房子可以带我看看吗？</td>\n    </tr>\n    <tr>\n      <th>8</th>\n      <td>8</td>\n      <td>光线不好，是吗</td>\n    </tr>\n    <tr>\n      <th>9</th>\n      <td>9</td>\n      <td>几期的？</td>\n    </tr>\n  </tbody>\n</table>\n</div>"
     },
     "metadata": {},
     "execution_count": 8
    }
   ],
   "source": [
    "train_query.head(10)"
   ]
  }
 ]
}