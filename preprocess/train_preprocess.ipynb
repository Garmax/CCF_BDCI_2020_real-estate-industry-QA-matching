{
 "metadata": {
  "language_info": {
   "codemirror_mode": {
    "name": "ipython",
    "version": 3
   },
   "file_extension": ".py",
   "mimetype": "text/x-python",
   "name": "python",
   "nbconvert_exporter": "python",
   "pygments_lexer": "ipython3",
   "version": "3.8.5-final"
  },
  "orig_nbformat": 2,
  "kernelspec": {
   "name": "python3",
   "display_name": "Python 3.8.5 64-bit ('PyTorch': conda)",
   "metadata": {
    "interpreter": {
     "hash": "0091fb04424b2963514ca27c70b5d5c51bd68196f0c97b0de22aa349960d80f3"
    }
   }
  }
 },
 "nbformat": 4,
 "nbformat_minor": 2,
 "cells": [
  {
   "cell_type": "code",
   "execution_count": 4,
   "metadata": {},
   "outputs": [],
   "source": [
    "import pandas as pd\n",
    "\n",
    "train_data = pd.read_csv('../data/train/train.query.tsv', sep='\\t', header=None)"
   ]
  },
  {
   "cell_type": "code",
   "execution_count": 5,
   "metadata": {},
   "outputs": [
    {
     "output_type": "execute_result",
     "data": {
      "text/plain": [
       "   0                   1\n",
       "0  0            采荷一小是分校吧\n",
       "1  1                毛坯吗？\n",
       "2  2  你们的佣金费大约是多少和契税是多少。\n",
       "3  3             靠近川沙路嘛？\n",
       "4  4      这套房源价格还有优惠空间吗？\n",
       "5  5              这个税多少钱\n",
       "6  6      这套房源价格还有优惠空间么？\n",
       "7  7         有房子可以带我看看吗？\n",
       "8  8             光线不好，是吗\n",
       "9  9                几期的？"
      ],
      "text/html": "<div>\n<style scoped>\n    .dataframe tbody tr th:only-of-type {\n        vertical-align: middle;\n    }\n\n    .dataframe tbody tr th {\n        vertical-align: top;\n    }\n\n    .dataframe thead th {\n        text-align: right;\n    }\n</style>\n<table border=\"1\" class=\"dataframe\">\n  <thead>\n    <tr style=\"text-align: right;\">\n      <th></th>\n      <th>0</th>\n      <th>1</th>\n    </tr>\n  </thead>\n  <tbody>\n    <tr>\n      <th>0</th>\n      <td>0</td>\n      <td>采荷一小是分校吧</td>\n    </tr>\n    <tr>\n      <th>1</th>\n      <td>1</td>\n      <td>毛坯吗？</td>\n    </tr>\n    <tr>\n      <th>2</th>\n      <td>2</td>\n      <td>你们的佣金费大约是多少和契税是多少。</td>\n    </tr>\n    <tr>\n      <th>3</th>\n      <td>3</td>\n      <td>靠近川沙路嘛？</td>\n    </tr>\n    <tr>\n      <th>4</th>\n      <td>4</td>\n      <td>这套房源价格还有优惠空间吗？</td>\n    </tr>\n    <tr>\n      <th>5</th>\n      <td>5</td>\n      <td>这个税多少钱</td>\n    </tr>\n    <tr>\n      <th>6</th>\n      <td>6</td>\n      <td>这套房源价格还有优惠空间么？</td>\n    </tr>\n    <tr>\n      <th>7</th>\n      <td>7</td>\n      <td>有房子可以带我看看吗？</td>\n    </tr>\n    <tr>\n      <th>8</th>\n      <td>8</td>\n      <td>光线不好，是吗</td>\n    </tr>\n    <tr>\n      <th>9</th>\n      <td>9</td>\n      <td>几期的？</td>\n    </tr>\n  </tbody>\n</table>\n</div>"
     },
     "metadata": {},
     "execution_count": 5
    }
   ],
   "source": [
    "train_data.head(10)"
   ]
  },
  {
   "cell_type": "code",
   "execution_count": null,
   "metadata": {},
   "outputs": [],
   "source": []
  }
 ]
}